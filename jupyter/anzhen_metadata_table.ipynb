{
 "cells": [
  {
   "cell_type": "code",
   "execution_count": 1,
   "metadata": {},
   "outputs": [
    {
     "name": "stdout",
     "output_type": "stream",
     "text": [
      "Populating the interactive namespace from numpy and matplotlib\n"
     ]
    }
   ],
   "source": [
    "%pylab inline\n",
    "import pandas as pd"
   ]
  },
  {
   "cell_type": "code",
   "execution_count": 2,
   "metadata": {},
   "outputs": [
    {
     "name": "stdout",
     "output_type": "stream",
     "text": [
      "/home/chenxupeng/projects/cardiacai\n"
     ]
    }
   ],
   "source": [
    "cd ../"
   ]
  },
  {
   "cell_type": "code",
   "execution_count": 3,
   "metadata": {
    "collapsed": true
   },
   "outputs": [],
   "source": [
    "import os\n",
    "import re"
   ]
  },
  {
   "cell_type": "code",
   "execution_count": 5,
   "metadata": {},
   "outputs": [],
   "source": [
    "table = pd.read_excel('data/anzhen/table.csv')\n",
    "table = table.dropna(subset=[u'病案号'])\n",
    "table.index = table[u'病案号']"
   ]
  },
  {
   "cell_type": "code",
   "execution_count": 6,
   "metadata": {},
   "outputs": [
    {
     "data": {
      "text/html": [
       "<div>\n",
       "<style>\n",
       "    .dataframe thead tr:only-child th {\n",
       "        text-align: right;\n",
       "    }\n",
       "\n",
       "    .dataframe thead th {\n",
       "        text-align: left;\n",
       "    }\n",
       "\n",
       "    .dataframe tbody tr th {\n",
       "        vertical-align: top;\n",
       "    }\n",
       "</style>\n",
       "<table border=\"1\" class=\"dataframe\">\n",
       "  <thead>\n",
       "    <tr style=\"text-align: right;\">\n",
       "      <th></th>\n",
       "      <th>姓名</th>\n",
       "      <th>胸片</th>\n",
       "      <th>病案号</th>\n",
       "      <th>性别</th>\n",
       "      <th>年龄</th>\n",
       "      <th>体重</th>\n",
       "      <th>术前诊断</th>\n",
       "      <th>第一诊断</th>\n",
       "      <th>第二诊断</th>\n",
       "      <th>手术日期</th>\n",
       "    </tr>\n",
       "    <tr>\n",
       "      <th>病案号</th>\n",
       "      <th></th>\n",
       "      <th></th>\n",
       "      <th></th>\n",
       "      <th></th>\n",
       "      <th></th>\n",
       "      <th></th>\n",
       "      <th></th>\n",
       "      <th></th>\n",
       "      <th></th>\n",
       "      <th></th>\n",
       "    </tr>\n",
       "  </thead>\n",
       "  <tbody>\n",
       "    <tr>\n",
       "      <th>2742780</th>\n",
       "      <td>支晨骁</td>\n",
       "      <td>1.0</td>\n",
       "      <td>2742780</td>\n",
       "      <td>男</td>\n",
       "      <td>2岁 9月</td>\n",
       "      <td>17.0</td>\n",
       "      <td>VSD</td>\n",
       "      <td>VSD</td>\n",
       "      <td>NaN</td>\n",
       "      <td>2017-03-01</td>\n",
       "    </tr>\n",
       "    <tr>\n",
       "      <th>3443379</th>\n",
       "      <td>韩佳磊</td>\n",
       "      <td>1.0</td>\n",
       "      <td>3443379</td>\n",
       "      <td>男</td>\n",
       "      <td>8月 22天</td>\n",
       "      <td>7.0</td>\n",
       "      <td>VSD</td>\n",
       "      <td>VSD</td>\n",
       "      <td>NaN</td>\n",
       "      <td>2017-03-01</td>\n",
       "    </tr>\n",
       "    <tr>\n",
       "      <th>3378357</th>\n",
       "      <td>李瑞豪</td>\n",
       "      <td>1.0</td>\n",
       "      <td>3378357</td>\n",
       "      <td>男</td>\n",
       "      <td>19岁 0月</td>\n",
       "      <td>55.0</td>\n",
       "      <td>VSD</td>\n",
       "      <td>VSD</td>\n",
       "      <td>NaN</td>\n",
       "      <td>2017-03-01</td>\n",
       "    </tr>\n",
       "    <tr>\n",
       "      <th>3173310</th>\n",
       "      <td>王宇璐</td>\n",
       "      <td>1.0</td>\n",
       "      <td>3173310</td>\n",
       "      <td>女</td>\n",
       "      <td>1岁 0月</td>\n",
       "      <td>9.5</td>\n",
       "      <td>VSD PFO PS</td>\n",
       "      <td>VSD</td>\n",
       "      <td>右室流出道狭窄</td>\n",
       "      <td>2017-03-01</td>\n",
       "    </tr>\n",
       "    <tr>\n",
       "      <th>3193871</th>\n",
       "      <td>王明港</td>\n",
       "      <td>1.0</td>\n",
       "      <td>3193871</td>\n",
       "      <td>男</td>\n",
       "      <td>11月 4天</td>\n",
       "      <td>9.2</td>\n",
       "      <td>VSD</td>\n",
       "      <td>VSD</td>\n",
       "      <td>NaN</td>\n",
       "      <td>2017-03-01</td>\n",
       "    </tr>\n",
       "  </tbody>\n",
       "</table>\n",
       "</div>"
      ],
      "text/plain": [
       "          姓名   胸片      病案号 性别       年龄    体重        术前诊断 第一诊断     第二诊断  \\\n",
       "病案号                                                                      \n",
       "2742780  支晨骁  1.0  2742780  男    2岁 9月  17.0         VSD  VSD      NaN   \n",
       "3443379  韩佳磊  1.0  3443379  男   8月 22天   7.0         VSD  VSD      NaN   \n",
       "3378357  李瑞豪  1.0  3378357  男   19岁 0月  55.0         VSD  VSD      NaN   \n",
       "3173310  王宇璐  1.0  3173310  女    1岁 0月   9.5  VSD PFO PS  VSD  右室流出道狭窄   \n",
       "3193871  王明港  1.0  3193871  男   11月 4天   9.2         VSD  VSD      NaN   \n",
       "\n",
       "              手术日期  \n",
       "病案号                 \n",
       "2742780 2017-03-01  \n",
       "3443379 2017-03-01  \n",
       "3378357 2017-03-01  \n",
       "3173310 2017-03-01  \n",
       "3193871 2017-03-01  "
      ]
     },
     "execution_count": 6,
     "metadata": {},
     "output_type": "execute_result"
    }
   ],
   "source": [
    "table.head()"
   ]
  },
  {
   "cell_type": "code",
   "execution_count": 230,
   "metadata": {
    "collapsed": true
   },
   "outputs": [],
   "source": [
    "f = h5py.File('data/anzhen/datasets/process_320x320.h5', 'r')\n",
    "image_id_anzhen = f['image_id'][:]\n",
    "f.close()"
   ]
  },
  {
   "cell_type": "code",
   "execution_count": 10,
   "metadata": {
    "collapsed": true
   },
   "outputs": [],
   "source": [
    "image_id_anzhen_abnormal = [a.split('.')[0] for a in os.listdir('data/anzhen/process_512x624')]"
   ]
  },
  {
   "cell_type": "code",
   "execution_count": 11,
   "metadata": {
    "collapsed": true
   },
   "outputs": [],
   "source": [
    "patient_ids = np.asarray([a.split('_')[0] for a in image_id_anzhen_abnormal])\n",
    "positions = np.asarray([a.split('_')[1] for a in image_id_anzhen_abnormal])"
   ]
  },
  {
   "cell_type": "code",
   "execution_count": 12,
   "metadata": {
    "collapsed": true
   },
   "outputs": [],
   "source": [
    "# merge duplicated patient ids\n",
    "group = table.groupby([u'病案号'])\n",
    "def merge_diagnosis(x):\n",
    "    x = x.astype('unicode')\n",
    "    if len(x.unique()) == 1:\n",
    "        return x[0]\n",
    "    else:\n",
    "        return u','.join(x)\n",
    "diagnosis = group[u'第一诊断'].aggregate(merge_diagnosis)\n",
    "diagnosis.name = 'diagnosis'"
   ]
  },
  {
   "cell_type": "code",
   "execution_count": 14,
   "metadata": {},
   "outputs": [],
   "source": [
    "sample_info_anzhen = pd.DataFrame(diagnosis[patient_ids])\n",
    "sample_info_anzhen['patient_id'] = [a.split('_')[0] for a in image_id_anzhen_abnormal]\n",
    "sample_info_anzhen['position'] = [a.split('_')[1] for a in image_id_anzhen_abnormal]\n",
    "sample_info_anzhen['image_id'] = image_id_anzhen_abnormal\n",
    "sample_info_anzhen['data_source'] = 'anzhen'\n",
    "sample_info_anzhen.index = image_id_anzhen_abnormal\n",
    "sample_info_anzhen.index.name = 'image_id'\n",
    "sample_info_anzhen['has_heart_trace'] = [os.path.exists('data/anzhen/abnormal_Z/heart_traces/%s.jpg.txt'%a) for a in image_id_anzhen_abnormal]"
   ]
  },
  {
   "cell_type": "code",
   "execution_count": 15,
   "metadata": {},
   "outputs": [
    {
     "data": {
      "text/html": [
       "<div>\n",
       "<style>\n",
       "    .dataframe thead tr:only-child th {\n",
       "        text-align: right;\n",
       "    }\n",
       "\n",
       "    .dataframe thead th {\n",
       "        text-align: left;\n",
       "    }\n",
       "\n",
       "    .dataframe tbody tr th {\n",
       "        vertical-align: top;\n",
       "    }\n",
       "</style>\n",
       "<table border=\"1\" class=\"dataframe\">\n",
       "  <thead>\n",
       "    <tr style=\"text-align: right;\">\n",
       "      <th></th>\n",
       "      <th>diagnosis</th>\n",
       "      <th>patient_id</th>\n",
       "      <th>position</th>\n",
       "      <th>image_id</th>\n",
       "      <th>data_source</th>\n",
       "      <th>has_heart_trace</th>\n",
       "    </tr>\n",
       "    <tr>\n",
       "      <th>image_id</th>\n",
       "      <th></th>\n",
       "      <th></th>\n",
       "      <th></th>\n",
       "      <th></th>\n",
       "      <th></th>\n",
       "      <th></th>\n",
       "    </tr>\n",
       "  </thead>\n",
       "  <tbody>\n",
       "    <tr>\n",
       "      <th>0264717_C</th>\n",
       "      <td>NaN</td>\n",
       "      <td>0264717</td>\n",
       "      <td>C</td>\n",
       "      <td>0264717_C</td>\n",
       "      <td>anzhen</td>\n",
       "      <td>False</td>\n",
       "    </tr>\n",
       "    <tr>\n",
       "      <th>0264717_Z</th>\n",
       "      <td>NaN</td>\n",
       "      <td>0264717</td>\n",
       "      <td>Z</td>\n",
       "      <td>0264717_Z</td>\n",
       "      <td>anzhen</td>\n",
       "      <td>True</td>\n",
       "    </tr>\n",
       "    <tr>\n",
       "      <th>0265969_Z</th>\n",
       "      <td>NaN</td>\n",
       "      <td>0265969</td>\n",
       "      <td>Z</td>\n",
       "      <td>0265969_Z</td>\n",
       "      <td>anzhen</td>\n",
       "      <td>True</td>\n",
       "    </tr>\n",
       "    <tr>\n",
       "      <th>0271852_C</th>\n",
       "      <td>NaN</td>\n",
       "      <td>0271852</td>\n",
       "      <td>C</td>\n",
       "      <td>0271852_C</td>\n",
       "      <td>anzhen</td>\n",
       "      <td>False</td>\n",
       "    </tr>\n",
       "    <tr>\n",
       "      <th>0271852_Z</th>\n",
       "      <td>NaN</td>\n",
       "      <td>0271852</td>\n",
       "      <td>Z</td>\n",
       "      <td>0271852_Z</td>\n",
       "      <td>anzhen</td>\n",
       "      <td>True</td>\n",
       "    </tr>\n",
       "  </tbody>\n",
       "</table>\n",
       "</div>"
      ],
      "text/plain": [
       "          diagnosis patient_id position   image_id data_source  \\\n",
       "image_id                                                         \n",
       "0264717_C       NaN    0264717        C  0264717_C      anzhen   \n",
       "0264717_Z       NaN    0264717        Z  0264717_Z      anzhen   \n",
       "0265969_Z       NaN    0265969        Z  0265969_Z      anzhen   \n",
       "0271852_C       NaN    0271852        C  0271852_C      anzhen   \n",
       "0271852_Z       NaN    0271852        Z  0271852_Z      anzhen   \n",
       "\n",
       "           has_heart_trace  \n",
       "image_id                    \n",
       "0264717_C            False  \n",
       "0264717_Z             True  \n",
       "0265969_Z             True  \n",
       "0271852_C            False  \n",
       "0271852_Z             True  "
      ]
     },
     "execution_count": 15,
     "metadata": {},
     "output_type": "execute_result"
    }
   ],
   "source": [
    "sample_info_anzhen.head()"
   ]
  },
  {
   "cell_type": "code",
   "execution_count": 16,
   "metadata": {},
   "outputs": [
    {
     "data": {
      "text/html": [
       "<div>\n",
       "<style>\n",
       "    .dataframe thead tr:only-child th {\n",
       "        text-align: right;\n",
       "    }\n",
       "\n",
       "    .dataframe thead th {\n",
       "        text-align: left;\n",
       "    }\n",
       "\n",
       "    .dataframe tbody tr th {\n",
       "        vertical-align: top;\n",
       "    }\n",
       "</style>\n",
       "<table border=\"1\" class=\"dataframe\">\n",
       "  <thead>\n",
       "    <tr style=\"text-align: right;\">\n",
       "      <th></th>\n",
       "      <th>diagnosis</th>\n",
       "      <th>image_id</th>\n",
       "      <th>patient_id</th>\n",
       "      <th>data_source</th>\n",
       "      <th>position</th>\n",
       "      <th>has_heart_trace</th>\n",
       "    </tr>\n",
       "    <tr>\n",
       "      <th>image_id</th>\n",
       "      <th></th>\n",
       "      <th></th>\n",
       "      <th></th>\n",
       "      <th></th>\n",
       "      <th></th>\n",
       "      <th></th>\n",
       "    </tr>\n",
       "  </thead>\n",
       "  <tbody>\n",
       "    <tr>\n",
       "      <th>ANON20170303010</th>\n",
       "      <td>normal</td>\n",
       "      <td>ANON20170303010</td>\n",
       "      <td>ANON20170303010</td>\n",
       "      <td>anzhen</td>\n",
       "      <td>Z</td>\n",
       "      <td>False</td>\n",
       "    </tr>\n",
       "    <tr>\n",
       "      <th>ANON20170303011</th>\n",
       "      <td>normal</td>\n",
       "      <td>ANON20170303011</td>\n",
       "      <td>ANON20170303011</td>\n",
       "      <td>anzhen</td>\n",
       "      <td>Z</td>\n",
       "      <td>False</td>\n",
       "    </tr>\n",
       "    <tr>\n",
       "      <th>ANON201703030110</th>\n",
       "      <td>normal</td>\n",
       "      <td>ANON201703030110</td>\n",
       "      <td>ANON201703030110</td>\n",
       "      <td>anzhen</td>\n",
       "      <td>Z</td>\n",
       "      <td>False</td>\n",
       "    </tr>\n",
       "    <tr>\n",
       "      <th>ANON2017030301100</th>\n",
       "      <td>normal</td>\n",
       "      <td>ANON2017030301100</td>\n",
       "      <td>ANON2017030301100</td>\n",
       "      <td>anzhen</td>\n",
       "      <td>Z</td>\n",
       "      <td>False</td>\n",
       "    </tr>\n",
       "    <tr>\n",
       "      <th>ANON2017030301101</th>\n",
       "      <td>normal</td>\n",
       "      <td>ANON2017030301101</td>\n",
       "      <td>ANON2017030301101</td>\n",
       "      <td>anzhen</td>\n",
       "      <td>Z</td>\n",
       "      <td>False</td>\n",
       "    </tr>\n",
       "  </tbody>\n",
       "</table>\n",
       "</div>"
      ],
      "text/plain": [
       "                  diagnosis           image_id         patient_id data_source  \\\n",
       "image_id                                                                        \n",
       "ANON20170303010      normal    ANON20170303010    ANON20170303010      anzhen   \n",
       "ANON20170303011      normal    ANON20170303011    ANON20170303011      anzhen   \n",
       "ANON201703030110     normal   ANON201703030110   ANON201703030110      anzhen   \n",
       "ANON2017030301100    normal  ANON2017030301100  ANON2017030301100      anzhen   \n",
       "ANON2017030301101    normal  ANON2017030301101  ANON2017030301101      anzhen   \n",
       "\n",
       "                  position  has_heart_trace  \n",
       "image_id                                     \n",
       "ANON20170303010          Z            False  \n",
       "ANON20170303011          Z            False  \n",
       "ANON201703030110         Z            False  \n",
       "ANON2017030301100        Z            False  \n",
       "ANON2017030301101        Z            False  "
      ]
     },
     "execution_count": 16,
     "metadata": {},
     "output_type": "execute_result"
    }
   ],
   "source": [
    "image_id_anzhen_normal = [os.path.splitext(fname)[0] for fname in os.listdir('data/anzhen/normal_Z/addline')]\n",
    "sample_info_anzhen_normal = pd.DataFrame({'diagnosis': 'normal',\n",
    "                                         'patient_id': image_id_anzhen_normal,\n",
    "                                         'image_id': image_id_anzhen_normal})\n",
    "sample_info_anzhen_normal['data_source'] = 'anzhen'\n",
    "sample_info_anzhen_normal['position'] = 'Z'\n",
    "sample_info_anzhen_normal['has_heart_trace'] = [os.path.exists('data/anzhen/abnormal_Z/heart_traces/%s.jpg.txt'%a) for a in image_id_anzhen_normal]\n",
    "sample_info_anzhen_normal.index = image_id_anzhen_normal\n",
    "sample_info_anzhen_normal.index.name = 'image_id'\n",
    "sample_info_anzhen_normal.head()"
   ]
  },
  {
   "cell_type": "code",
   "execution_count": 18,
   "metadata": {},
   "outputs": [
    {
     "data": {
      "text/html": [
       "<div>\n",
       "<style>\n",
       "    .dataframe thead tr:only-child th {\n",
       "        text-align: right;\n",
       "    }\n",
       "\n",
       "    .dataframe thead th {\n",
       "        text-align: left;\n",
       "    }\n",
       "\n",
       "    .dataframe tbody tr th {\n",
       "        vertical-align: top;\n",
       "    }\n",
       "</style>\n",
       "<table border=\"1\" class=\"dataframe\">\n",
       "  <thead>\n",
       "    <tr style=\"text-align: right;\">\n",
       "      <th></th>\n",
       "      <th>image_id</th>\n",
       "      <th>patient_id</th>\n",
       "      <th>position</th>\n",
       "      <th>diagnosis</th>\n",
       "      <th>data_source</th>\n",
       "      <th>has_heart_trace</th>\n",
       "    </tr>\n",
       "    <tr>\n",
       "      <th>image_id</th>\n",
       "      <th></th>\n",
       "      <th></th>\n",
       "      <th></th>\n",
       "      <th></th>\n",
       "      <th></th>\n",
       "      <th></th>\n",
       "    </tr>\n",
       "  </thead>\n",
       "  <tbody>\n",
       "    <tr>\n",
       "      <th>1005_Z</th>\n",
       "      <td>1005_Z</td>\n",
       "      <td>1005</td>\n",
       "      <td>Z</td>\n",
       "      <td>normal</td>\n",
       "      <td>indiana</td>\n",
       "      <td>True</td>\n",
       "    </tr>\n",
       "    <tr>\n",
       "      <th>1006_Z</th>\n",
       "      <td>1006_Z</td>\n",
       "      <td>1006</td>\n",
       "      <td>Z</td>\n",
       "      <td>normal</td>\n",
       "      <td>indiana</td>\n",
       "      <td>True</td>\n",
       "    </tr>\n",
       "    <tr>\n",
       "      <th>1008_Z</th>\n",
       "      <td>1008_Z</td>\n",
       "      <td>1008</td>\n",
       "      <td>Z</td>\n",
       "      <td>normal</td>\n",
       "      <td>indiana</td>\n",
       "      <td>True</td>\n",
       "    </tr>\n",
       "    <tr>\n",
       "      <th>1009_Z</th>\n",
       "      <td>1009_Z</td>\n",
       "      <td>1009</td>\n",
       "      <td>Z</td>\n",
       "      <td>normal</td>\n",
       "      <td>indiana</td>\n",
       "      <td>True</td>\n",
       "    </tr>\n",
       "    <tr>\n",
       "      <th>100_Z</th>\n",
       "      <td>100_Z</td>\n",
       "      <td>100</td>\n",
       "      <td>Z</td>\n",
       "      <td>normal</td>\n",
       "      <td>indiana</td>\n",
       "      <td>True</td>\n",
       "    </tr>\n",
       "  </tbody>\n",
       "</table>\n",
       "</div>"
      ],
      "text/plain": [
       "         image_id patient_id position diagnosis data_source  has_heart_trace\n",
       "image_id                                                                    \n",
       "1005_Z     1005_Z       1005        Z    normal     indiana             True\n",
       "1006_Z     1006_Z       1006        Z    normal     indiana             True\n",
       "1008_Z     1008_Z       1008        Z    normal     indiana             True\n",
       "1009_Z     1009_Z       1009        Z    normal     indiana             True\n",
       "100_Z       100_Z        100        Z    normal     indiana             True"
      ]
     },
     "execution_count": 18,
     "metadata": {},
     "output_type": "execute_result"
    }
   ],
   "source": [
    "# indiana normal samples\n",
    "image_id_indiana = [a.split('.')[0] for a in os.listdir('data/indiana/normal_Z/noline')]\n",
    "sample_info_indiana = pd.DataFrame({'image_id': image_id_indiana})\n",
    "pat_image_id = re.compile(r'([0-9]+)[_]+([CZ])')\n",
    "sample_info_indiana['patient_id'] = [pat_image_id.match(a).group(1) for a in image_id_indiana]\n",
    "sample_info_indiana['position'] = [pat_image_id.match(a).group(2) for a in image_id_indiana]\n",
    "sample_info_indiana['diagnosis'] = 'normal'\n",
    "sample_info_indiana['data_source'] = 'indiana'\n",
    "sample_info_indiana['has_heart_trace'] = [os.path.exists('data/indiana/normal_Z/heart_traces/%s.jpg.txt'%a) for a in image_id_indiana]\n",
    "sample_info_indiana.index = image_id_indiana\n",
    "sample_info_indiana.index.name = 'image_id'\n",
    "sample_info_indiana.head()"
   ]
  },
  {
   "cell_type": "code",
   "execution_count": 19,
   "metadata": {},
   "outputs": [
    {
     "name": "stdout",
     "output_type": "stream",
     "text": [
      "(7461, 6)\n"
     ]
    },
    {
     "data": {
      "text/html": [
       "<div>\n",
       "<style>\n",
       "    .dataframe thead tr:only-child th {\n",
       "        text-align: right;\n",
       "    }\n",
       "\n",
       "    .dataframe thead th {\n",
       "        text-align: left;\n",
       "    }\n",
       "\n",
       "    .dataframe tbody tr th {\n",
       "        vertical-align: top;\n",
       "    }\n",
       "</style>\n",
       "<table border=\"1\" class=\"dataframe\">\n",
       "  <thead>\n",
       "    <tr style=\"text-align: right;\">\n",
       "      <th></th>\n",
       "      <th>data_source</th>\n",
       "      <th>diagnosis</th>\n",
       "      <th>has_heart_trace</th>\n",
       "      <th>image_id</th>\n",
       "      <th>patient_id</th>\n",
       "      <th>position</th>\n",
       "    </tr>\n",
       "    <tr>\n",
       "      <th>image_id</th>\n",
       "      <th></th>\n",
       "      <th></th>\n",
       "      <th></th>\n",
       "      <th></th>\n",
       "      <th></th>\n",
       "      <th></th>\n",
       "    </tr>\n",
       "  </thead>\n",
       "  <tbody>\n",
       "    <tr>\n",
       "      <th>0264717_C</th>\n",
       "      <td>anzhen</td>\n",
       "      <td>NaN</td>\n",
       "      <td>False</td>\n",
       "      <td>0264717_C</td>\n",
       "      <td>0264717</td>\n",
       "      <td>C</td>\n",
       "    </tr>\n",
       "    <tr>\n",
       "      <th>0264717_Z</th>\n",
       "      <td>anzhen</td>\n",
       "      <td>NaN</td>\n",
       "      <td>True</td>\n",
       "      <td>0264717_Z</td>\n",
       "      <td>0264717</td>\n",
       "      <td>Z</td>\n",
       "    </tr>\n",
       "    <tr>\n",
       "      <th>0265969_Z</th>\n",
       "      <td>anzhen</td>\n",
       "      <td>NaN</td>\n",
       "      <td>True</td>\n",
       "      <td>0265969_Z</td>\n",
       "      <td>0265969</td>\n",
       "      <td>Z</td>\n",
       "    </tr>\n",
       "    <tr>\n",
       "      <th>0271852_C</th>\n",
       "      <td>anzhen</td>\n",
       "      <td>NaN</td>\n",
       "      <td>False</td>\n",
       "      <td>0271852_C</td>\n",
       "      <td>0271852</td>\n",
       "      <td>C</td>\n",
       "    </tr>\n",
       "    <tr>\n",
       "      <th>0271852_Z</th>\n",
       "      <td>anzhen</td>\n",
       "      <td>NaN</td>\n",
       "      <td>True</td>\n",
       "      <td>0271852_Z</td>\n",
       "      <td>0271852</td>\n",
       "      <td>Z</td>\n",
       "    </tr>\n",
       "  </tbody>\n",
       "</table>\n",
       "</div>"
      ],
      "text/plain": [
       "          data_source diagnosis  has_heart_trace   image_id patient_id  \\\n",
       "image_id                                                                 \n",
       "0264717_C      anzhen       NaN            False  0264717_C    0264717   \n",
       "0264717_Z      anzhen       NaN             True  0264717_Z    0264717   \n",
       "0265969_Z      anzhen       NaN             True  0265969_Z    0265969   \n",
       "0271852_C      anzhen       NaN            False  0271852_C    0271852   \n",
       "0271852_Z      anzhen       NaN             True  0271852_Z    0271852   \n",
       "\n",
       "          position  \n",
       "image_id            \n",
       "0264717_C        C  \n",
       "0264717_Z        Z  \n",
       "0265969_Z        Z  \n",
       "0271852_C        C  \n",
       "0271852_Z        Z  "
      ]
     },
     "execution_count": 19,
     "metadata": {},
     "output_type": "execute_result"
    }
   ],
   "source": [
    "sample_info = pd.concat([sample_info_anzhen, sample_info_indiana, sample_info_anzhen_normal], axis=0)\n",
    "print sample_info.shape\n",
    "sample_info.head()"
   ]
  },
  {
   "cell_type": "code",
   "execution_count": 20,
   "metadata": {
    "collapsed": true
   },
   "outputs": [],
   "source": [
    "sample_info.to_excel('data/sample_info.xlsx')"
   ]
  },
  {
   "cell_type": "code",
   "execution_count": 21,
   "metadata": {},
   "outputs": [
    {
     "data": {
      "text/plain": [
       "(1652, 6)"
      ]
     },
     "execution_count": 21,
     "metadata": {},
     "output_type": "execute_result"
    }
   ],
   "source": [
    "sample_info.query('(diagnosis == \"normal\") and (position == \"Z\")').shape"
   ]
  },
  {
   "cell_type": "code",
   "execution_count": 22,
   "metadata": {},
   "outputs": [
    {
     "name": "stdout",
     "output_type": "stream",
     "text": [
      "(u'VSD', 3550)\n",
      "('normal', 1652)\n",
      "(u'ASD', 806)\n",
      "(u'TOF', 466)\n",
      "(u'MI', 169)\n",
      "(u'PDA', 70)\n",
      "(u'DORV', 68)\n",
      "(u'CoA', 52)\n",
      "(u'TAPVC', 45)\n",
      "(u'TECD', 44)\n"
     ]
    },
    {
     "name": "stderr",
     "output_type": "stream",
     "text": [
      "/home/chenxupeng/apps/anaconda2/lib/python2.7/site-packages/numpy/lib/arraysetops.py:216: FutureWarning: numpy not_equal will not check object identity in the future. The comparison did not return the same result as suggested by the identity (`is`)) and will change.\n",
      "  flag = np.concatenate(([True], aux[1:] != aux[:-1]))\n"
     ]
    }
   ],
   "source": [
    "diagnosis_unique, counts = np.unique(sample_info['diagnosis'].values, return_counts=True)\n",
    "order = np.argsort(-counts)\n",
    "diagnosis_unique = diagnosis_unique[order]\n",
    "counts = counts[order]\n",
    "for a, c in zip(diagnosis_unique, counts)[:10]:\n",
    "    print(a, c)"
   ]
  },
  {
   "cell_type": "code",
   "execution_count": null,
   "metadata": {
    "collapsed": true
   },
   "outputs": [],
   "source": []
  }
 ],
 "metadata": {
  "kernelspec": {
   "display_name": "Python 2",
   "language": "python",
   "name": "python2"
  },
  "language_info": {
   "codemirror_mode": {
    "name": "ipython",
    "version": 2
   },
   "file_extension": ".py",
   "mimetype": "text/x-python",
   "name": "python",
   "nbconvert_exporter": "python",
   "pygments_lexer": "ipython2",
   "version": "2.7.13"
  }
 },
 "nbformat": 4,
 "nbformat_minor": 2
}
